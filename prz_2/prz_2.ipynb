{
  "nbformat": 4,
  "nbformat_minor": 0,
  "metadata": {
    "colab": {
      "provenance": []
    },
    "kernelspec": {
      "name": "python3",
      "display_name": "Python 3"
    },
    "language_info": {
      "name": "python"
    }
  },
  "cells": [
    {
      "cell_type": "markdown",
      "source": [
        "# **Практика 2: Исследование атак на модели ИИ. FastGradient Sign Method (FGSM)**\n"
      ],
      "metadata": {
        "id": "jO26VBNH2GXR"
      }
    },
    {
      "cell_type": "markdown",
      "source": [
        "# Цель задания:\n",
        "Познакомиться с одной из популярных атак на системы машинного обучения — атакой Fast Gradient\n",
        "Sign Method (FGSM). Задача — научиться использовать FGSM для создания противоречивых (adversarial)\n",
        "примеров, которые могут ввести обученную модель в заблуждение.\n"
      ],
      "metadata": {
        "id": "-zoC1cBx2Hle"
      }
    },
    {
      "cell_type": "markdown",
      "source": [
        "# Задачи:\n",
        "1. Загрузить ранее обученную модель на датасете MNIST;\n",
        "2. Изучить теоретические основы FGSM;\n",
        "3. Реализовать атаку FGSM и сгенерировать противоречивые примеры;\n",
        "4. Оценить точность модели на противоречивых примерах и сравнить с результатами на обычных данных.\n"
      ],
      "metadata": {
        "id": "eD-5EHKt2KFS"
      }
    },
    {
      "cell_type": "markdown",
      "source": [
        "# Шаги выполнения:"
      ],
      "metadata": {
        "id": "9X3_BkLh2L6K"
      }
    },
    {
      "cell_type": "markdown",
      "source": [
        "## **1. Загрузка обученной модели и данных MNIST:**"
      ],
      "metadata": {
        "id": "4AcjtLTb2NfI"
      }
    },
    {
      "cell_type": "code",
      "execution_count": 5,
      "metadata": {
        "colab": {
          "base_uri": "https://localhost:8080/"
        },
        "id": "skAPbnLs2BBg",
        "outputId": "36f84d5a-9cf5-4fca-90c3-ac5c156759b9"
      },
      "outputs": [
        {
          "output_type": "stream",
          "name": "stderr",
          "text": [
            "WARNING:absl:Compiled the loaded model, but the compiled metrics have yet to be built. `model.compile_metrics` will be empty until you train or evaluate the model.\n"
          ]
        },
        {
          "output_type": "stream",
          "name": "stdout",
          "text": [
            "\u001b[1m313/313\u001b[0m \u001b[32m━━━━━━━━━━━━━━━━━━━━\u001b[0m\u001b[37m\u001b[0m \u001b[1m1s\u001b[0m 2ms/step - accuracy: 0.9726 - loss: 0.0869\n",
            "Test accuracy on clean images: 0.9769\n"
          ]
        }
      ],
      "source": [
        "import tensorflow as tf\n",
        "from tensorflow.keras.datasets import mnist\n",
        "from tensorflow.keras.utils import to_categorical\n",
        "\n",
        "# Загрузка тестовых данных MNIST\n",
        "(_, _), (test_images, test_labels) = mnist.load_data()\n",
        "\n",
        "# Нормализация данных\n",
        "test_images = test_images / 255.0\n",
        "\n",
        "# Преобразование меток в категориальный формат\n",
        "test_labels = to_categorical(test_labels, num_classes=10)\n",
        "\n",
        "# Загрузка обученной модели\n",
        "model = tf.keras.models.load_model('mnist_model.h5')\n",
        "\n",
        "# Проверка точности модели на обычных данных\n",
        "test_loss, test_acc = model.evaluate(test_images.reshape(-1, 28, 28, 1), test_labels)  # Обратите внимание на изменение формы\n",
        "print(f'Test accuracy on clean images: {test_acc:.4f}')"
      ]
    },
    {
      "cell_type": "markdown",
      "source": [
        "## **3. Реализация атаки FGSM:**\n",
        "\n",
        "Теперь реализуем FGSM для генерации противоречивых примеров"
      ],
      "metadata": {
        "id": "zl8bpzfJ2cNT"
      }
    },
    {
      "cell_type": "code",
      "source": [
        "import numpy as np\n",
        "# Функция для реализации FGSM атаки\n",
        "def fgsm_attack(image, epsilon, gradient):\n",
        " # Применение знака градиента к изображению\n",
        " perturbed_image = image + epsilon * np.sign(gradient)\n",
        " # Обрезка значений, чтобы они оставались в пределах [0,1]\n",
        " perturbed_image = np.clip(perturbed_image, 0, 1)\n",
        " return perturbed_image\n",
        "# Вычисление градиента\n",
        "def generate_adversarial_example(model, image, label, epsilon):\n",
        "  # Превращение изображения в формат, подходящий для модели\n",
        "  image = tf.convert_to_tensor(image.reshape((1, 28, 28, 1)))\n",
        "  with tf.GradientTape() as tape:\n",
        "    tape.watch(image)\n",
        "    prediction = model(image)\n",
        "    loss = tf.keras.losses.categorical_crossentropy(label[None], prediction)\n",
        "  # Получение градиента по отношению к входному изображению\n",
        "  gradient = tape.gradient(loss, image)\n",
        "  # Применение FGSM\n",
        "  adversarial_image = fgsm_attack(image.numpy(), epsilon, gradient.numpy())\n",
        "\n",
        "  return adversarial_image\n",
        "# Пример использования\n",
        "epsilon = 0.1 # Величина шума\n",
        "adversarial_example = generate_adversarial_example(model, test_images[0],\n",
        "test_labels[0], epsilon)\n",
        "# Вывод результатов\n",
        "import matplotlib.pyplot as plt\n",
        "plt.figure()\n",
        "plt.subplot(1, 2, 1)\n",
        "plt.title(\"Оригинальное изображение\")\n",
        "plt.imshow(test_images[0], cmap=\"gray\")\n",
        "plt.subplot(1, 2, 2)\n",
        "plt.title(\"Противоречивое изображение\")\n",
        "plt.imshow(adversarial_example.reshape(28, 28), cmap=\"gray\")\n",
        "plt.show()\n"
      ],
      "metadata": {
        "colab": {
          "base_uri": "https://localhost:8080/",
          "height": 308
        },
        "id": "9SUQsVva2HG8",
        "outputId": "54a1df68-c613-4b3b-bf4c-74f382161508"
      },
      "execution_count": 6,
      "outputs": [
        {
          "output_type": "display_data",
          "data": {
            "text/plain": [
              "<Figure size 640x480 with 2 Axes>"
            ],
            "image/png": "[encoded data removed]"
          },
          "metadata": {}
        }
      ]
    },
    {
      "cell_type": "markdown",
      "source": [
        "## **4. Оценка модели на противоречивых примерах:**\n",
        "\n",
        "Теперь мы проверим точность модели на противоречивых изображениях, сгенерированных при\n",
        "помощи FGSM."
      ],
      "metadata": {
        "id": "5KtVfgg-2WbU"
      }
    },
    {
      "cell_type": "code",
      "source": [
        "# Генерация противоречивых примеров для всего набора данных\n",
        "def generate_adversarial_dataset(model, images, labels, epsilon):\n",
        "    adversarial_images = []\n",
        "    for i in range(len(images)):\n",
        "        # Генерация противоречивого изображения\n",
        "        adv_image = generate_adversarial_example(model, images[i], labels[i], epsilon)\n",
        "        adversarial_images.append(adv_image)\n",
        "\n",
        "    return np.array(adversarial_images)\n",
        "\n",
        "# Генерация противоречивых примеров\n",
        "adversarial_images = generate_adversarial_dataset(model, test_images, test_labels, epsilon)\n",
        "\n",
        "# Оценка модели на противоречивых примерах\n",
        "adversarial_loss, adversarial_acc = model.evaluate(adversarial_images.reshape(-1, 28, 28, 1), test_labels)\n",
        "print(f'Точность на противоречивых примерах: {adversarial_acc:.4f}')"
      ],
      "metadata": {
        "id": "ZJm88RPj_UQb",
        "colab": {
          "base_uri": "https://localhost:8080/"
        },
        "outputId": "59f0bca4-78d3-4601-dd22-24275cd4e1f7"
      },
      "execution_count": 7,
      "outputs": [
        {
          "output_type": "stream",
          "name": "stdout",
          "text": [
            "\u001b[1m313/313\u001b[0m \u001b[32m━━━━━━━━━━━━━━━━━━━━\u001b[0m\u001b[37m\u001b[0m \u001b[1m1s\u001b[0m 2ms/step - accuracy: 0.0826 - loss: 6.4757\n",
            "Точность на противоречивых примерах: 0.1032\n"
          ]
        }
      ]
    },
    {
      "cell_type": "markdown",
      "source": [
        "## 5. Сравнение результатов:\n"
      ],
      "metadata": {
        "id": "BVhLv-hCBSjv"
      }
    },
    {
      "cell_type": "code",
      "source": [
        "print(f'Точность на чистых изображениях: {test_acc:.4f}')\n",
        "print(f'Точность на противоречивых примерах: {adversarial_acc:.4f}')"
      ],
      "metadata": {
        "id": "ON-59UgEBa08",
        "colab": {
          "base_uri": "https://localhost:8080/"
        },
        "outputId": "44c4898c-b9c0-4dff-f57e-757d417ffaa8"
      },
      "execution_count": 8,
      "outputs": [
        {
          "output_type": "stream",
          "name": "stdout",
          "text": [
            "Точность на чистых изображениях: 0.9769\n",
            "Точность на противоречивых примерах: 0.1032\n"
          ]
        }
      ]
    },
    {
      "cell_type": "markdown",
      "source": [
        "## **6. Вывод:**\n",
        "Точность на обычных примерах достигает примерно 97,6%, в то время как на противоречивых она составляет около 10%. Это свидетельствует о том, что модель подвержена атакам, что является распространенной проблемой в области машинного обучения.\n",
        "\n",
        "Такое значительное снижение точности указывает на то, что модель не справляется с задачей распознавания в условиях небольших, но целенаправленных искажений. Это подчеркивает необходимость разработки более устойчивых моделей и внедрения методов защиты от атак для повышения надежности в реальных приложениях."
      ],
      "metadata": {
        "id": "pkGgHZqrBe9m"
      }
    }
  ]
}