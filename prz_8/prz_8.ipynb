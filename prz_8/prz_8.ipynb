{
  "nbformat": 4,
  "nbformat_minor": 0,
  "metadata": {
    "colab": {
      "provenance": []
    },
    "kernelspec": {
      "name": "python3",
      "display_name": "Python 3"
    },
    "language_info": {
      "name": "python"
    }
  },
  "cells": [
    {
      "cell_type": "markdown",
      "source": [
        "# Практика 8: Методы защиты от атак на модели ИИ\n",
        "# Чурсинов Герман ББМО-01-23\n",
        "\n",
        "## Цель задания:\n",
        "Изучить методы защиты моделей ИИ от различных атак, включая методы защиты на уровне данных, моделирования и обучения. Реализовать эти методы и проверить их эффективность против атак, изученных ранее.\n",
        "\n",
        "## Задачи:\n",
        "1. Изучить и реализовать защиту модели с помощью тренировок на противоречивых примерах (Adversarial Training).\n",
        "2. Реализовать метод защиты на основе градиентной маскировки.\n",
        "3. Использовать регуляризацию и нормализацию для повышения устойчивости модели.\n",
        "4. Проверить эффективность методов защиты против атак FGSM, PGD и GAN-based атак.\n",
        "5. Оценить улучшение точности защищенной модели на противоречивых примерах.\n",
        "\n",
        "## Шаги выполнения:\n",
        "**Шаг 1: Защита с помощью Adversarial Training**\n",
        "\n",
        "Adversarial Training — это метод защиты, который заключается в том, чтобы обучать модель на противоречивых примерах. Этот метод помогает модели научиться быть более устойчивой к атакам, так как она сталкивается с противоречивыми примерами на этапе обучения.\n",
        "\n",
        "\n"
      ],
      "metadata": {
        "id": "4eCplKigSgxw"
      }
    },
    {
      "cell_type": "code",
      "source": [
        "import tensorflow as tf\n",
        "import numpy as np\n",
        "from tensorflow.keras.datasets import mnist\n",
        "from tensorflow.keras.layers import Activation\n",
        "from tensorflow.keras.utils import to_categorical"
      ],
      "metadata": {
        "id": "SGWhdcJooHWn"
      },
      "execution_count": 2,
      "outputs": []
    },
    {
      "cell_type": "code",
      "source": [
        "# Загрузка данных MNIST\n",
        "(train_images, train_labels), (test_images, test_labels) = mnist.load_data()\n",
        "\n",
        "# Нормализация данных\n",
        "train_images = train_images/255.0\n",
        "test_images = test_images/255.0\n",
        "\n",
        "# Преобразование меток в one-hot encoding\n",
        "train_labels = tf.keras.utils.to_categorical(train_labels, 10)\n",
        "test_labels = tf.keras.utils.to_categorical(test_labels, 10)\n",
        "\n",
        "# Функция FGSM атаки\n",
        "def fgsm_attack(image, epsilon, gradient):\n",
        "  perturbation = epsilon * np.sign(gradient)\n",
        "  adversarial_image = image + perturbation\n",
        "  adversarial_image = np.clip(adversarial_image, 0, 1)\n",
        "  return adversarial_image"
      ],
      "metadata": {
        "id": "9oSS15nYoBfd"
      },
      "execution_count": 3,
      "outputs": []
    },
    {
      "cell_type": "code",
      "source": [
        "# Функция для генерации противоречивых примеров\n",
        "def generate_adversarial_examples(model, images, labels, epsilon):\n",
        "  adversarial_images = []\n",
        "  for i in range(len(images)):\n",
        "    image = tf.convert_to_tensor(images[i].reshape((1, 28, 28, 1)), dtype=tf.float32)\n",
        "    label = tf.convert_to_tensor(labels[i].reshape((1, 10)), dtype=tf.float32)\n",
        "    with tf.GradientTape() as tape:\n",
        "      tape.watch(image)\n",
        "      prediction = model(image)\n",
        "      loss = tf.keras.losses.categorical_crossentropy(label, prediction)\n",
        "    gradient = tape.gradient(loss, image)\n",
        "    adversarial_image = fgsm_attack(image.numpy(), epsilon, gradient.numpy())\n",
        "    adversarial_images.append(adversarial_image.reshape(28, 28))\n",
        "  return np.array(adversarial_images)"
      ],
      "metadata": {
        "id": "hjGOFUjtsauY"
      },
      "execution_count": 4,
      "outputs": []
    },
    {
      "cell_type": "code",
      "source": [
        "# Создание модели\n",
        "def create_model():\n",
        "  model = tf.keras.Sequential([\n",
        "      tf.keras.layers.Flatten(input_shape=(28, 28)),\n",
        "      tf.keras.layers.Dense(128, activation='relu'),\n",
        "      tf.keras.layers.Dense(10, activation='softmax')\n",
        "      ])\n",
        "  model.compile(optimizer='adam', loss='categorical_crossentropy', metrics=['accuracy'])\n",
        "  return model\n",
        "\n",
        "# Обучение модели с противоречивыми примерами\n",
        "def adversarial_training(model, train_images, train_labels, epsilon):\n",
        "  for epoch in range(5): # Короткое обучение для демонстрации\n",
        "    for i in range(0, len(train_images), 32):\n",
        "      batch_images = train_images[i:i+32]\n",
        "      batch_labels = train_labels[i:i+32]\n",
        "      # Генерация противоречивых примеров для текущей партии данных\n",
        "      adversarial_images = generate_adversarial_examples(model, batch_images, batch_labels, epsilon)\n",
        "      # Объединение оригинальных и противоречивых примеров\n",
        "      combined_images = np.concatenate([batch_images, adversarial_images], axis=0)\n",
        "      combined_labels = np.concatenate([batch_labels, batch_labels], axis=0)\n",
        "      # Обучение на комбинированных данных\n",
        "      model.train_on_batch(combined_images, combined_labels)\n",
        "\n",
        "# Инициализация модели\n",
        "model = create_model()\n",
        "# Тренировка модели с защитой на противоречивых примерах\n",
        "adversarial_training(model, train_images, train_labels, epsilon=0.1)\n",
        "# Сохранение защищенной модели\n",
        "model.save('adversarial_trained_model.h5')"
      ],
      "metadata": {
        "colab": {
          "base_uri": "https://localhost:8080/"
        },
        "id": "fXppfm-rscVK",
        "outputId": "d6b160f6-5dcc-4da9-cb1e-bf6b2a533daa"
      },
      "execution_count": 5,
      "outputs": [
        {
          "output_type": "stream",
          "name": "stderr",
          "text": [
            "/usr/local/lib/python3.10/dist-packages/keras/src/layers/reshaping/flatten.py:37: UserWarning: Do not pass an `input_shape`/`input_dim` argument to a layer. When using Sequential models, prefer using an `Input(shape)` object as the first layer in the model instead.\n",
            "  super().__init__(**kwargs)\n",
            "WARNING:tensorflow:5 out of the last 5 calls to <function TensorFlowTrainer.make_train_function.<locals>.one_step_on_iterator at 0x7a9565af3eb0> triggered tf.function retracing. Tracing is expensive and the excessive number of tracings could be due to (1) creating @tf.function repeatedly in a loop, (2) passing tensors with different shapes, (3) passing Python objects instead of tensors. For (1), please define your @tf.function outside of the loop. For (2), @tf.function has reduce_retracing=True option that can avoid unnecessary retracing. For (3), please refer to https://www.tensorflow.org/guide/function#controlling_retracing and https://www.tensorflow.org/api_docs/python/tf/function for  more details.\n",
            "WARNING:tensorflow:6 out of the last 6 calls to <function TensorFlowTrainer.make_train_function.<locals>.one_step_on_iterator at 0x7a9565af3eb0> triggered tf.function retracing. Tracing is expensive and the excessive number of tracings could be due to (1) creating @tf.function repeatedly in a loop, (2) passing tensors with different shapes, (3) passing Python objects instead of tensors. For (1), please define your @tf.function outside of the loop. For (2), @tf.function has reduce_retracing=True option that can avoid unnecessary retracing. For (3), please refer to https://www.tensorflow.org/guide/function#controlling_retracing and https://www.tensorflow.org/api_docs/python/tf/function for  more details.\n",
            "WARNING:absl:You are saving your model as an HDF5 file via `model.save()` or `keras.saving.save_model(model)`. This file format is considered legacy. We recommend using instead the native Keras format, e.g. `model.save('my_model.keras')` or `keras.saving.save_model(model, 'my_model.keras')`. \n"
          ]
        }
      ]
    },
    {
      "cell_type": "markdown",
      "source": [
        "**Шаг 2: Градиентная маскировка (Gradient Masking)**\n",
        "\n",
        "Gradient Masking — это метод защиты, который затрудняет доступ к градиентам модели для атак. Он используется для уменьшения информации, доступной для атакующих, и усложнения поиска направленных изменений."
      ],
      "metadata": {
        "id": "6D5l4SMtoBuY"
      }
    },
    {
      "cell_type": "code",
      "source": [
        "# Обновление модели для градиентной маскировки\n",
        "def create_masked_model():\n",
        "  model = tf.keras.Sequential([\n",
        "      tf.keras.layers.Flatten(input_shape=(28, 28)),\n",
        "      tf.keras.layers.Dense(128, activation='relu'),\n",
        "      tf.keras.layers.Dense(10),\n",
        "      Activation('softplus') # Используем softplus вместо softmax для градиентной маскировки\n",
        "      ])\n",
        "  model.compile(optimizer='adam', loss='categorical_crossentropy', metrics=['accuracy'])\n",
        "  return model\n",
        "# Обучение модели с градиентной маскировкой\n",
        "masked_model = create_masked_model()\n",
        "masked_model.fit(train_images, train_labels, epochs=5)\n",
        "# Сохранение модели с градиентной маскировкой\n",
        "masked_model.save('masked_model.h5')"
      ],
      "metadata": {
        "id": "yirP_EymTQrr",
        "colab": {
          "base_uri": "https://localhost:8080/"
        },
        "outputId": "4ed5e121-d925-462d-851d-9e246f3e88c8"
      },
      "execution_count": 6,
      "outputs": [
        {
          "output_type": "stream",
          "name": "stdout",
          "text": [
            "Epoch 1/5\n",
            "\u001b[1m32/32\u001b[0m \u001b[32m━━━━━━━━━━━━━━━━━━━━\u001b[0m\u001b[37m\u001b[0m \u001b[1m2s\u001b[0m 6ms/step - accuracy: 0.3900 - loss: 1.9965\n",
            "Epoch 2/5\n",
            "\u001b[1m32/32\u001b[0m \u001b[32m━━━━━━━━━━━━━━━━━━━━\u001b[0m\u001b[37m\u001b[0m \u001b[1m0s\u001b[0m 6ms/step - accuracy: 0.8249 - loss: 0.8474\n",
            "Epoch 3/5\n",
            "\u001b[1m32/32\u001b[0m \u001b[32m━━━━━━━━━━━━━━━━━━━━\u001b[0m\u001b[37m\u001b[0m \u001b[1m0s\u001b[0m 6ms/step - accuracy: 0.8919 - loss: 0.4558\n",
            "Epoch 4/5\n",
            "\u001b[1m32/32\u001b[0m \u001b[32m━━━━━━━━━━━━━━━━━━━━\u001b[0m\u001b[37m\u001b[0m \u001b[1m0s\u001b[0m 6ms/step - accuracy: 0.9354 - loss: 0.3030\n",
            "Epoch 5/5\n",
            "\u001b[1m32/32\u001b[0m \u001b[32m━━━━━━━━━━━━━━━━━━━━\u001b[0m\u001b[37m\u001b[0m \u001b[1m0s\u001b[0m 7ms/step - accuracy: 0.9391 - loss: 0.2563\n"
          ]
        },
        {
          "output_type": "stream",
          "name": "stderr",
          "text": [
            "WARNING:absl:You are saving your model as an HDF5 file via `model.save()` or `keras.saving.save_model(model)`. This file format is considered legacy. We recommend using instead the native Keras format, e.g. `model.save('my_model.keras')` or `keras.saving.save_model(model, 'my_model.keras')`. \n"
          ]
        }
      ]
    },
    {
      "cell_type": "markdown",
      "source": [
        "**Шаг 3: Регуляризация и нормализация для повышения устойчивости**\n",
        "\n",
        "Использование таких методов, как L2-регуляризация, дропаут и нормализация батчей, может помочь улучшить устойчивость модели к атакам.\n"
      ],
      "metadata": {
        "id": "EeWmJnU0pFLl"
      }
    },
    {
      "cell_type": "code",
      "execution_count": 7,
      "metadata": {
        "id": "L686X7FnQv3M",
        "colab": {
          "base_uri": "https://localhost:8080/"
        },
        "outputId": "fa267947-3d9b-400d-c4b3-0778ce130aa9"
      },
      "outputs": [
        {
          "output_type": "stream",
          "name": "stdout",
          "text": [
            "Epoch 1/5\n",
            "\u001b[1m32/32\u001b[0m \u001b[32m━━━━━━━━━━━━━━━━━━━━\u001b[0m\u001b[37m\u001b[0m \u001b[1m1s\u001b[0m 4ms/step - accuracy: 0.3002 - loss: 4.2247\n",
            "Epoch 2/5\n",
            "\u001b[1m32/32\u001b[0m \u001b[32m━━━━━━━━━━━━━━━━━━━━\u001b[0m\u001b[37m\u001b[0m \u001b[1m0s\u001b[0m 4ms/step - accuracy: 0.7192 - loss: 2.2067\n",
            "Epoch 3/5\n",
            "\u001b[1m32/32\u001b[0m \u001b[32m━━━━━━━━━━━━━━━━━━━━\u001b[0m\u001b[37m\u001b[0m \u001b[1m0s\u001b[0m 5ms/step - accuracy: 0.8053 - loss: 1.7316\n",
            "Epoch 4/5\n",
            "\u001b[1m32/32\u001b[0m \u001b[32m━━━━━━━━━━━━━━━━━━━━\u001b[0m\u001b[37m\u001b[0m \u001b[1m0s\u001b[0m 4ms/step - accuracy: 0.8538 - loss: 1.4756\n",
            "Epoch 5/5\n",
            "\u001b[1m32/32\u001b[0m \u001b[32m━━━━━━━━━━━━━━━━━━━━\u001b[0m\u001b[37m\u001b[0m \u001b[1m0s\u001b[0m 4ms/step - accuracy: 0.8884 - loss: 1.2810\n"
          ]
        },
        {
          "output_type": "stream",
          "name": "stderr",
          "text": [
            "WARNING:absl:You are saving your model as an HDF5 file via `model.save()` or `keras.saving.save_model(model)`. This file format is considered legacy. We recommend using instead the native Keras format, e.g. `model.save('my_model.keras')` or `keras.saving.save_model(model, 'my_model.keras')`. \n"
          ]
        }
      ],
      "source": [
        "# Модель с регуляризацией и нормализацией\n",
        "def create_regularized_model():\n",
        "  model = tf.keras.Sequential([\n",
        "      tf.keras.layers.Flatten(input_shape=(28, 28)),\n",
        "      tf.keras.layers.Dense(128, activation='relu', kernel_regularizer=tf.keras.regularizers.l2(0.01)),\n",
        "      tf.keras.layers.Dropout(0.5),\n",
        "      tf.keras.layers.BatchNormalization(),\n",
        "      tf.keras.layers.Dense(10, activation='softmax')\n",
        "      ])\n",
        "  model.compile(optimizer='adam', loss='categorical_crossentropy', metrics=['accuracy'])\n",
        "  return model\n",
        "# Обучение модели с регуляризацией и нормализацией\n",
        "regularized_model = create_regularized_model()\n",
        "regularized_model.fit(train_images, train_labels, epochs=5)\n",
        "# Сохранение модели с регуляризацией\n",
        "regularized_model.save('regularized_model.h5')"
      ]
    },
    {
      "cell_type": "markdown",
      "source": [
        "**Шаг 4: Оценка моделей на противоречивых примерах**\n",
        "\n",
        "Теперь проверим эффективность всех защитных методов на атакованных данных, созданных с помощью FGSM и других методов, таких как PGD или GAN.\n"
      ],
      "metadata": {
        "id": "3ydxBEyTeB90"
      }
    },
    {
      "cell_type": "code",
      "source": [
        "# Загрузка атакованной модели\n",
        "protected_model = tf.keras.models.load_model('adversarial_trained_model.h5')\n",
        "# Генерация противоречивых примеров для тестовых данных\n",
        "adversarial_test_images = generate_adversarial_examples(protected_model, test_images, test_labels, epsilon=0.1)\n",
        "# Оценка защищенной модели на противоречивых примерах\n",
        "test_loss, test_acc = protected_model.evaluate(adversarial_test_images, test_labels)\n",
        "print(f'Accuracy of protected model on adversarial examples: {test_acc}')"
      ],
      "metadata": {
        "id": "_tEFMk6Ce4qC",
        "colab": {
          "base_uri": "https://localhost:8080/"
        },
        "outputId": "eb05ed0d-1832-45ae-9967-996f3a7b449c"
      },
      "execution_count": 8,
      "outputs": [
        {
          "output_type": "stream",
          "name": "stderr",
          "text": [
            "WARNING:absl:Compiled the loaded model, but the compiled metrics have yet to be built. `model.compile_metrics` will be empty until you train or evaluate the model.\n"
          ]
        },
        {
          "output_type": "stream",
          "name": "stdout",
          "text": [
            "\u001b[1m313/313\u001b[0m \u001b[32m━━━━━━━━━━━━━━━━━━━━\u001b[0m\u001b[37m\u001b[0m \u001b[1m1s\u001b[0m 2ms/step - accuracy: 0.4920 - loss: 1.4749\n",
            "Accuracy of protected model on adversarial examples: 0.5473999977111816\n"
          ]
        }
      ]
    },
    {
      "cell_type": "markdown",
      "source": [
        "Шаг 5: Сравнение методов защиты\n",
        "\n",
        "Сравните эффективность различных методов защиты:\n",
        "- Adversarial Training\n",
        "- Gradient Masking\n",
        "- Регуляризация и нормализация\n",
        "\n",
        "Проанализируйте, какие методы наиболее эффективны для защиты от конкретных атак и какие комбинации дают наилучшие результаты.\n",
        "\n",
        "Дополнительное задание (усложнение):\n",
        "- Попробуйте комбинировать несколько методов защиты для повышения устойчивости модели.\n",
        "- Оцените, как защищенные модели ведут себя на новых типах атак (например, GAN-based атаки).\n",
        "- Исследуйте, как увеличенный уровень шума (epsilon) в атаке FGSM влияет на защищенные модели."
      ],
      "metadata": {
        "id": "mYD0Kg6FfUnT"
      }
    },
    {
      "cell_type": "code",
      "source": [
        "# Загрузка и подготовка данных MNIST\n",
        "(train_images, train_labels), (test_images, test_labels) = mnist.load_data()\n",
        "train_images = train_images / 255.0\n",
        "test_images = test_images / 255.0\n",
        "train_labels = to_categorical(train_labels, 10)\n",
        "test_labels = to_categorical(test_labels, 10)\n",
        "\n",
        "# --- Функция для создания модели ---\n",
        "def create_model(activation='relu', regularization=None, use_batch_norm=False, dropout_rate=0.0):\n",
        "  model = tf.keras.Sequential()\n",
        "  model.add(tf.keras.layers.Flatten(input_shape=(28, 28)))\n",
        "  model.add(tf.keras.layers.Dense(128, activation=activation, kernel_regularizer=regularization))\n",
        "  if use_batch_norm:\n",
        "    model.add(tf.keras.layers.BatchNormalization())\n",
        "  if dropout_rate > 0.0:\n",
        "    model.add(tf.keras.layers.Dropout(dropout_rate))\n",
        "  model.add(tf.keras.layers.Dense(10, activation='softmax'))\n",
        "  model.compile(optimizer='adam', loss='categorical_crossentropy', metrics=['accuracy'])\n",
        "  return model\n",
        "\n",
        "# --- Функция для FGSM атаки ---\n",
        "def fgsm_attack(model, image, label, epsilon=0.1):\n",
        "  image = tf.convert_to_tensor(image.reshape((1, 28, 28, 1)))\n",
        "  label = tf.convert_to_tensor(label.reshape((1, 10)))\n",
        "  with tf.GradientTape() as tape:\n",
        "    tape.watch(image)\n",
        "    prediction = model(image)\n",
        "    loss = tf.keras.losses.categorical_crossentropy(label, prediction)\n",
        "  gradient = tape.gradient(loss, image)\n",
        "  perturbed_image = image + epsilon * tf.sign(gradient)\n",
        "  perturbed_image = tf.clip_by_value(perturbed_image, 0, 1)\n",
        "  return perturbed_image.numpy()\n",
        "\n",
        "# --- Функция для генерации FGSM противоречивых примеров ---\n",
        "def generate_fgsm_adversarial_dataset(model, images, labels, epsilon=0.1):\n",
        "  adversarial_images = []\n",
        "  for i in range(len(images)):\n",
        "    adversarial_image = fgsm_attack(model, images[i], labels[i], epsilon)\n",
        "    adversarial_images.append(adversarial_image.reshape(28, 28))\n",
        "  return np.array(adversarial_images)\n",
        "\n",
        "# --- Adversarial Training (обучение на противоречивых примерах) ---\n",
        "def adversarial_training(model, train_images, train_labels, epsilon=0.1, epochs=5, batch_size=32):\n",
        "  for epoch in range(epochs):\n",
        "    print(f'Epoch {epoch + 1}/{epochs}')\n",
        "    for i in range(0, len(train_images), batch_size):\n",
        "      batch_images = train_images[i:i + batch_size]\n",
        "      batch_labels = train_labels[i:i + batch_size]\n",
        "      # Генерация противоречивых примеров\n",
        "      adversarial_images = generate_fgsm_adversarial_dataset(model, batch_images, batch_labels, epsilon)\n",
        "      # Комбинирование оригинальных и противоречивых данных\n",
        "      combined_images = np.concatenate([batch_images, adversarial_images], axis=0)\n",
        "      combined_labels = np.concatenate([batch_labels, batch_labels], axis=0)\n",
        "      # Обучение на комбинированных данных\n",
        "      model.train_on_batch(combined_images, combined_labels)\n",
        "\n",
        "# --- Реализация градиентной маскировки с помощью изменения функции активации ---\n",
        "def create_masked_model():\n",
        "  model = tf.keras.Sequential([\n",
        "      tf.keras.layers.Flatten(input_shape=(28, 28)),\n",
        "      tf.keras.layers.Dense(128),\n",
        "      tf.keras.layers.Activation('softplus'), # Использование softplus вместо relu для маскировки градиентов\n",
        "      tf.keras.layers.Dense(10, activation='softmax')\n",
        "      ])\n",
        "  model.compile(optimizer='adam', loss='categorical_crossentropy', metrics=['accuracy'])\n",
        "  return model\n",
        "\n",
        "# --- Основной код для эксперимента ---\n",
        "# Создание и обучение базовой модели\n",
        "base_model = create_model()\n",
        "base_model.fit(train_images, train_labels, epochs=5)\n",
        "# Создание и обучение модели с Adversarial Training\n",
        "adv_model = create_model()\n",
        "adversarial_training(adv_model, train_images, train_labels, epsilon=0.1)\n",
        "# Создание и обучение модели с градиентной маскировкой\n",
        "masked_model = create_masked_model()\n",
        "masked_model.fit(train_images, train_labels, epochs=5)\n",
        "# Создание модели с регуляризацией и дропаутом\n",
        "regularized_model = create_model(regularization=tf.keras.regularizers.l2(0.01), use_batch_norm=True, dropout_rate=0.5)\n",
        "regularized_model.fit(train_images, train_labels, epochs=5)\n",
        "\n",
        "# --- Оценка моделей на противоречивых примерах ---\n",
        "test_adversarial_images = generate_fgsm_adversarial_dataset(base_model,\n",
        "test_images, test_labels, epsilon=0.1)\n",
        "# Оценка защищенных моделей\n",
        "print(\"Evaluation of models on adversarial examples:\")\n",
        "print(\"Base Model Accuracy on Adversarial Examples:\")\n",
        "base_model.evaluate(test_adversarial_images, test_labels)\n",
        "print(\"Adversarially Trained Model Accuracy on Adversarial Examples:\")\n",
        "adv_model.evaluate(test_adversarial_images, test_labels)\n",
        "print(\"Masked Model Accuracy on Adversarial Examples:\")\n",
        "masked_model.evaluate(test_adversarial_images, test_labels)\n",
        "print(\"Regularized Model Accuracy on Adversarial Examples:\")\n",
        "regularized_model.evaluate(test_adversarial_images, test_labels)"
      ],
      "metadata": {
        "colab": {
          "base_uri": "https://localhost:8080/"
        },
        "id": "pGRmN-SYqCxd",
        "outputId": "671978ab-d9e3-4150-e1a8-404e5f5ead15"
      },
      "execution_count": 9,
      "outputs": [
        {
          "output_type": "stream",
          "name": "stdout",
          "text": [
            "Epoch 1/5\n",
            "\u001b[1m32/32\u001b[0m \u001b[32m━━━━━━━━━━━━━━━━━━━━\u001b[0m\u001b[37m\u001b[0m \u001b[1m1s\u001b[0m 4ms/step - accuracy: 0.4054 - loss: 1.9318\n",
            "Epoch 2/5\n",
            "\u001b[1m32/32\u001b[0m \u001b[32m━━━━━━━━━━━━━━━━━━━━\u001b[0m\u001b[37m\u001b[0m \u001b[1m0s\u001b[0m 4ms/step - accuracy: 0.8457 - loss: 0.7062\n",
            "Epoch 3/5\n",
            "\u001b[1m32/32\u001b[0m \u001b[32m━━━━━━━━━━━━━━━━━━━━\u001b[0m\u001b[37m\u001b[0m \u001b[1m0s\u001b[0m 4ms/step - accuracy: 0.8948 - loss: 0.4180\n",
            "Epoch 4/5\n",
            "\u001b[1m32/32\u001b[0m \u001b[32m━━━━━━━━━━━━━━━━━━━━\u001b[0m\u001b[37m\u001b[0m \u001b[1m0s\u001b[0m 3ms/step - accuracy: 0.9196 - loss: 0.3397\n",
            "Epoch 5/5\n",
            "\u001b[1m32/32\u001b[0m \u001b[32m━━━━━━━━━━━━━━━━━━━━\u001b[0m\u001b[37m\u001b[0m \u001b[1m0s\u001b[0m 4ms/step - accuracy: 0.9399 - loss: 0.2658\n",
            "Epoch 1/5\n",
            "Epoch 2/5\n",
            "Epoch 3/5\n",
            "Epoch 4/5\n",
            "Epoch 5/5\n",
            "Epoch 1/5\n",
            "\u001b[1m32/32\u001b[0m \u001b[32m━━━━━━━━━━━━━━━━━━━━\u001b[0m\u001b[37m\u001b[0m \u001b[1m2s\u001b[0m 8ms/step - accuracy: 0.3634 - loss: 2.0613\n",
            "Epoch 2/5\n",
            "\u001b[1m32/32\u001b[0m \u001b[32m━━━━━━━━━━━━━━━━━━━━\u001b[0m\u001b[37m\u001b[0m \u001b[1m0s\u001b[0m 7ms/step - accuracy: 0.8094 - loss: 0.8520\n",
            "Epoch 3/5\n",
            "\u001b[1m32/32\u001b[0m \u001b[32m━━━━━━━━━━━━━━━━━━━━\u001b[0m\u001b[37m\u001b[0m \u001b[1m0s\u001b[0m 6ms/step - accuracy: 0.8743 - loss: 0.5068\n",
            "Epoch 4/5\n",
            "\u001b[1m32/32\u001b[0m \u001b[32m━━━━━━━━━━━━━━━━━━━━\u001b[0m\u001b[37m\u001b[0m \u001b[1m0s\u001b[0m 7ms/step - accuracy: 0.9181 - loss: 0.3655\n",
            "Epoch 5/5\n",
            "\u001b[1m32/32\u001b[0m \u001b[32m━━━━━━━━━━━━━━━━━━━━\u001b[0m\u001b[37m\u001b[0m \u001b[1m0s\u001b[0m 4ms/step - accuracy: 0.9088 - loss: 0.3253\n",
            "Epoch 1/5\n",
            "\u001b[1m32/32\u001b[0m \u001b[32m━━━━━━━━━━━━━━━━━━━━\u001b[0m\u001b[37m\u001b[0m \u001b[1m2s\u001b[0m 4ms/step - accuracy: 0.3292 - loss: 4.4686\n",
            "Epoch 2/5\n",
            "\u001b[1m32/32\u001b[0m \u001b[32m━━━━━━━━━━━━━━━━━━━━\u001b[0m\u001b[37m\u001b[0m \u001b[1m0s\u001b[0m 4ms/step - accuracy: 0.7642 - loss: 2.1568\n",
            "Epoch 3/5\n",
            "\u001b[1m32/32\u001b[0m \u001b[32m━━━━━━━━━━━━━━━━━━━━\u001b[0m\u001b[37m\u001b[0m \u001b[1m0s\u001b[0m 4ms/step - accuracy: 0.8218 - loss: 1.7416\n",
            "Epoch 4/5\n",
            "\u001b[1m32/32\u001b[0m \u001b[32m━━━━━━━━━━━━━━━━━━━━\u001b[0m\u001b[37m\u001b[0m \u001b[1m0s\u001b[0m 5ms/step - accuracy: 0.8793 - loss: 1.4593\n",
            "Epoch 5/5\n",
            "\u001b[1m32/32\u001b[0m \u001b[32m━━━━━━━━━━━━━━━━━━━━\u001b[0m\u001b[37m\u001b[0m \u001b[1m0s\u001b[0m 4ms/step - accuracy: 0.9244 - loss: 1.2707\n",
            "Evaluation of models on adversarial examples:\n",
            "Base Model Accuracy on Adversarial Examples:\n",
            "\u001b[1m313/313\u001b[0m \u001b[32m━━━━━━━━━━━━━━━━━━━━\u001b[0m\u001b[37m\u001b[0m \u001b[1m1s\u001b[0m 2ms/step - accuracy: 0.0902 - loss: 3.2060\n",
            "Adversarially Trained Model Accuracy on Adversarial Examples:\n",
            "\u001b[1m313/313\u001b[0m \u001b[32m━━━━━━━━━━━━━━━━━━━━\u001b[0m\u001b[37m\u001b[0m \u001b[1m1s\u001b[0m 2ms/step - accuracy: 0.5900 - loss: 1.1948\n",
            "Masked Model Accuracy on Adversarial Examples:\n",
            "\u001b[1m313/313\u001b[0m \u001b[32m━━━━━━━━━━━━━━━━━━━━\u001b[0m\u001b[37m\u001b[0m \u001b[1m1s\u001b[0m 2ms/step - accuracy: 0.3875 - loss: 1.9015\n",
            "Regularized Model Accuracy on Adversarial Examples:\n",
            "\u001b[1m313/313\u001b[0m \u001b[32m━━━━━━━━━━━━━━━━━━━━\u001b[0m\u001b[37m\u001b[0m \u001b[1m1s\u001b[0m 2ms/step - accuracy: 0.5086 - loss: 2.3241\n"
          ]
        },
        {
          "output_type": "execute_result",
          "data": {
            "text/plain": [
              "[2.2185733318328857, 0.5566999912261963]"
            ]
          },
          "metadata": {},
          "execution_count": 9
        }
      ]
    },
    {
      "cell_type": "markdown",
      "source": [
        "# **Результаты:**\n",
        "\n",
        "| Модель | Точность (FGSM) | Потери | Приемущества | Недостатки |\n",
        "| :-- | :-: | :-: | :-: | --: |\n",
        "| base_model\t| 9.02% | 3.2060 | Простая структура | Полностью уязвима к атакам |\n",
        "| adv_model |\t59.00% | 1.1948 | Максимальная устойчивость | Высокая вычислительная стоимость обучения |\n",
        "| masked_model |\t38.75% | 1.9015 | Снижение доступа к градиентам | Защита менее эффективна для сложных атак |\n",
        "| regularized_model | 50.86% | 2.3241 | Лучшая общая устойчивость\t| Менее устойчива к FGSM по сравнению с Adversarial Training |\n",
        "\n",
        "Наиболее эффективный метод защиты у `Adversarial Training`, так как он демонстрирует максимальную точность на противоречивых примерах (59%).\n",
        "\n",
        "Gradient Masking и Regularization также повышают устойчивость, но их эффективность ниже, чем у Adversarial Training.\n",
        "\n",
        "Base Model подтверждает свою полную уязвимость, что подчеркивает необходимость использования методов защиты.\n",
        "\n",
        "# **Выводы:**\n",
        "\n",
        "Для повышения точности и устойчивости к FGSM рекомендуется использовать `Adversarial Training`.\n",
        "\n",
        "В ситуациях с ограниченными вычислительными ресурсами можно дополнительно рассмотреть сочетание регуляризации (L2 и Dropout) с Gradient Masking."
      ],
      "metadata": {
        "id": "Y4Xs9BHpX9R1"
      }
    }
  ]
}